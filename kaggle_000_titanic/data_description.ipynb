{
 "cells": [
  {
   "cell_type": "markdown",
   "metadata": {},
   "source": [
    "# データ内容の説明\n",
    "\n",
    "各カラムの概要\n",
    "\n",
    "参考: https://qiita.com/FukuharaYohei/items/c87f61aee2a24466d5d4\n",
    "\n",
    "|列 |変数 |内容 |Key情報など|\n",
    "|--|--|--|--|\n",
    "|1 |PassengerId |乗客ID |ユニークキー|\n",
    "|2 |Survived |生死(目的変数) |0 = No(死亡), 1 = Yes(生存)。テストデータには存在しない列|\n",
    "|3 |Pclass |席等級 |1 = 1st(Upper), 2 = 2nd(Middle), 3 = 3rd(Lower)|\n",
    "|4 |Name |姓名 ||\n",
    "|5 |Sex |性 |male/female|\n",
    "|6 |Age |年齢 |Age is fractional if less than 1. If the age is estimated, is it in the form of xx.5|\n",
    "|7 |SibSp |同乗した姉妹兄弟と配偶者数 |Sibling = brother, sister, stepbrother, stepsister <br>/ Spouse = husband, wife (mistresses and fiancés were ignored)|\n",
    "|8 |Parch |同乗した両親子ども数 |Parent = mother, father <br>/ Child = daughter, son, stepdaughter, stepson <br>/ Some children travelled only with a nanny, therefore parch=0 for them.|\n",
    "|9 |Ticket |チケット番号 ||\n",
    "|10 |Fare |料金 |親子で2席買ったら合計料金になるっぽい|\n",
    "|11 |Cabin |キャビン番号 |欠損値多い|\n",
    "|12 |Embarked |乗船港 |C = Cherbourg, Q = Queenstown, S = Southampton$\n"
   ]
  }
 ],
 "metadata": {
  "kernelspec": {
   "display_name": "Python 3.10.4 ('DataScienceCompe2022_eLearning')",
   "language": "python",
   "name": "python3"
  },
  "language_info": {
   "name": "python",
   "version": "3.10.4"
  },
  "orig_nbformat": 4,
  "vscode": {
   "interpreter": {
    "hash": "0f22da910e91006303630ac7460b658d86b10d758d1abed0ed180b99749fb88c"
   }
  }
 },
 "nbformat": 4,
 "nbformat_minor": 2
}
